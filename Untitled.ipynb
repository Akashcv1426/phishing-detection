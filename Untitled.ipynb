{
 "cells": [
  {
   "cell_type": "code",
   "execution_count": 2,
   "id": "d408b2a3-4989-42f6-891e-770a4d7f7098",
   "metadata": {},
   "outputs": [
    {
     "name": "stdout",
     "output_type": "stream",
     "text": [
      "   having_IP_Address  URL_Length  Shortining_Service  having_At_Symbol  \\\n",
      "0                 -1           1                   1                 1   \n",
      "1                  1           1                   1                 1   \n",
      "2                  1           0                   1                 1   \n",
      "3                  1           0                   1                 1   \n",
      "4                  1           0                  -1                 1   \n",
      "\n",
      "   double_slash_redirecting  Prefix_Suffix  having_Sub_Domain  SSLfinal_State  \\\n",
      "0                        -1             -1                 -1              -1   \n",
      "1                         1             -1                  0               1   \n",
      "2                         1             -1                 -1              -1   \n",
      "3                         1             -1                 -1              -1   \n",
      "4                         1             -1                  1               1   \n",
      "\n",
      "   Domain_registeration_length  Favicon  ...  popUpWidnow  Iframe  \\\n",
      "0                           -1        1  ...            1       1   \n",
      "1                           -1        1  ...            1       1   \n",
      "2                           -1        1  ...            1       1   \n",
      "3                            1        1  ...            1       1   \n",
      "4                           -1        1  ...           -1       1   \n",
      "\n",
      "   age_of_domain  DNSRecord  web_traffic  Page_Rank  Google_Index  \\\n",
      "0             -1         -1           -1         -1             1   \n",
      "1             -1         -1            0         -1             1   \n",
      "2              1         -1            1         -1             1   \n",
      "3             -1         -1            1         -1             1   \n",
      "4             -1         -1            0         -1             1   \n",
      "\n",
      "   Links_pointing_to_page  Statistical_report  Result  \n",
      "0                       1                  -1      -1  \n",
      "1                       1                   1      -1  \n",
      "2                       0                  -1      -1  \n",
      "3                      -1                   1      -1  \n",
      "4                       1                   1       1  \n",
      "\n",
      "[5 rows x 31 columns]\n",
      "<class 'pandas.core.frame.DataFrame'>\n",
      "RangeIndex: 11055 entries, 0 to 11054\n",
      "Data columns (total 31 columns):\n",
      " #   Column                       Non-Null Count  Dtype\n",
      "---  ------                       --------------  -----\n",
      " 0   having_IP_Address            11055 non-null  int64\n",
      " 1   URL_Length                   11055 non-null  int64\n",
      " 2   Shortining_Service           11055 non-null  int64\n",
      " 3   having_At_Symbol             11055 non-null  int64\n",
      " 4   double_slash_redirecting     11055 non-null  int64\n",
      " 5   Prefix_Suffix                11055 non-null  int64\n",
      " 6   having_Sub_Domain            11055 non-null  int64\n",
      " 7   SSLfinal_State               11055 non-null  int64\n",
      " 8   Domain_registeration_length  11055 non-null  int64\n",
      " 9   Favicon                      11055 non-null  int64\n",
      " 10  port                         11055 non-null  int64\n",
      " 11  HTTPS_token                  11055 non-null  int64\n",
      " 12  Request_URL                  11055 non-null  int64\n",
      " 13  URL_of_Anchor                11055 non-null  int64\n",
      " 14  Links_in_tags                11055 non-null  int64\n",
      " 15  SFH                          11055 non-null  int64\n",
      " 16  Submitting_to_email          11055 non-null  int64\n",
      " 17  Abnormal_URL                 11055 non-null  int64\n",
      " 18  Redirect                     11055 non-null  int64\n",
      " 19  on_mouseover                 11055 non-null  int64\n",
      " 20  RightClick                   11055 non-null  int64\n",
      " 21  popUpWidnow                  11055 non-null  int64\n",
      " 22  Iframe                       11055 non-null  int64\n",
      " 23  age_of_domain                11055 non-null  int64\n",
      " 24  DNSRecord                    11055 non-null  int64\n",
      " 25  web_traffic                  11055 non-null  int64\n",
      " 26  Page_Rank                    11055 non-null  int64\n",
      " 27  Google_Index                 11055 non-null  int64\n",
      " 28  Links_pointing_to_page       11055 non-null  int64\n",
      " 29  Statistical_report           11055 non-null  int64\n",
      " 30  Result                       11055 non-null  int64\n",
      "dtypes: int64(31)\n",
      "memory usage: 2.6 MB\n",
      "None\n",
      "       having_IP_Address    URL_Length  Shortining_Service  having_At_Symbol  \\\n",
      "count       11055.000000  11055.000000        11055.000000      11055.000000   \n",
      "mean            0.313795     -0.633198            0.738761          0.700588   \n",
      "std             0.949534      0.766095            0.673998          0.713598   \n",
      "min            -1.000000     -1.000000           -1.000000         -1.000000   \n",
      "25%            -1.000000     -1.000000            1.000000          1.000000   \n",
      "50%             1.000000     -1.000000            1.000000          1.000000   \n",
      "75%             1.000000     -1.000000            1.000000          1.000000   \n",
      "max             1.000000      1.000000            1.000000          1.000000   \n",
      "\n",
      "       double_slash_redirecting  Prefix_Suffix  having_Sub_Domain  \\\n",
      "count              11055.000000   11055.000000       11055.000000   \n",
      "mean                   0.741474      -0.734962           0.063953   \n",
      "std                    0.671011       0.678139           0.817518   \n",
      "min                   -1.000000      -1.000000          -1.000000   \n",
      "25%                    1.000000      -1.000000          -1.000000   \n",
      "50%                    1.000000      -1.000000           0.000000   \n",
      "75%                    1.000000      -1.000000           1.000000   \n",
      "max                    1.000000       1.000000           1.000000   \n",
      "\n",
      "       SSLfinal_State  Domain_registeration_length       Favicon  ...  \\\n",
      "count    11055.000000                 11055.000000  11055.000000  ...   \n",
      "mean         0.250927                    -0.336771      0.628584  ...   \n",
      "std          0.911892                     0.941629      0.777777  ...   \n",
      "min         -1.000000                    -1.000000     -1.000000  ...   \n",
      "25%         -1.000000                    -1.000000      1.000000  ...   \n",
      "50%          1.000000                    -1.000000      1.000000  ...   \n",
      "75%          1.000000                     1.000000      1.000000  ...   \n",
      "max          1.000000                     1.000000      1.000000  ...   \n",
      "\n",
      "        popUpWidnow        Iframe  age_of_domain     DNSRecord   web_traffic  \\\n",
      "count  11055.000000  11055.000000   11055.000000  11055.000000  11055.000000   \n",
      "mean       0.613388      0.816915       0.061239      0.377114      0.287291   \n",
      "std        0.789818      0.576784       0.998168      0.926209      0.827733   \n",
      "min       -1.000000     -1.000000      -1.000000     -1.000000     -1.000000   \n",
      "25%        1.000000      1.000000      -1.000000     -1.000000      0.000000   \n",
      "50%        1.000000      1.000000       1.000000      1.000000      1.000000   \n",
      "75%        1.000000      1.000000       1.000000      1.000000      1.000000   \n",
      "max        1.000000      1.000000       1.000000      1.000000      1.000000   \n",
      "\n",
      "          Page_Rank  Google_Index  Links_pointing_to_page  Statistical_report  \\\n",
      "count  11055.000000  11055.000000            11055.000000        11055.000000   \n",
      "mean      -0.483673      0.721574                0.344007            0.719584   \n",
      "std        0.875289      0.692369                0.569944            0.694437   \n",
      "min       -1.000000     -1.000000               -1.000000           -1.000000   \n",
      "25%       -1.000000      1.000000                0.000000            1.000000   \n",
      "50%       -1.000000      1.000000                0.000000            1.000000   \n",
      "75%        1.000000      1.000000                1.000000            1.000000   \n",
      "max        1.000000      1.000000                1.000000            1.000000   \n",
      "\n",
      "             Result  \n",
      "count  11055.000000  \n",
      "mean       0.113885  \n",
      "std        0.993539  \n",
      "min       -1.000000  \n",
      "25%       -1.000000  \n",
      "50%        1.000000  \n",
      "75%        1.000000  \n",
      "max        1.000000  \n",
      "\n",
      "[8 rows x 31 columns]\n"
     ]
    }
   ],
   "source": [
    "import pandas as pd\n",
    "\n",
    "# Load dataset\n",
    "df = pd.read_csv(\"phishing_dataset.csv\")  # Update the path\n",
    "\n",
    "# Display basic information\n",
    "print(df.head())  # View first few rows\n",
    "print(df.info())  # Check for missing values\n",
    "print(df.describe())  # Summary statistics\n"
   ]
  },
  {
   "cell_type": "code",
   "execution_count": 3,
   "id": "9f80455a-09ab-410a-a451-cde6f331af16",
   "metadata": {},
   "outputs": [
    {
     "name": "stdout",
     "output_type": "stream",
     "text": [
      "having_IP_Address              0\n",
      "URL_Length                     0\n",
      "Shortining_Service             0\n",
      "having_At_Symbol               0\n",
      "double_slash_redirecting       0\n",
      "Prefix_Suffix                  0\n",
      "having_Sub_Domain              0\n",
      "SSLfinal_State                 0\n",
      "Domain_registeration_length    0\n",
      "Favicon                        0\n",
      "port                           0\n",
      "HTTPS_token                    0\n",
      "Request_URL                    0\n",
      "URL_of_Anchor                  0\n",
      "Links_in_tags                  0\n",
      "SFH                            0\n",
      "Submitting_to_email            0\n",
      "Abnormal_URL                   0\n",
      "Redirect                       0\n",
      "on_mouseover                   0\n",
      "RightClick                     0\n",
      "popUpWidnow                    0\n",
      "Iframe                         0\n",
      "age_of_domain                  0\n",
      "DNSRecord                      0\n",
      "web_traffic                    0\n",
      "Page_Rank                      0\n",
      "Google_Index                   0\n",
      "Links_pointing_to_page         0\n",
      "Statistical_report             0\n",
      "Result                         0\n",
      "dtype: int64\n"
     ]
    }
   ],
   "source": [
    "print(df.isnull().sum())  # Count missing values in each column\n"
   ]
  },
  {
   "cell_type": "code",
   "execution_count": 4,
   "id": "e89fc907-d832-4717-8536-12e508b09b90",
   "metadata": {},
   "outputs": [],
   "source": [
    "df = df.dropna()  # Remove rows with missing values\n"
   ]
  },
  {
   "cell_type": "code",
   "execution_count": 5,
   "id": "dd31ba56-16f2-40a5-93b5-5960cf827798",
   "metadata": {},
   "outputs": [
    {
     "name": "stdout",
     "output_type": "stream",
     "text": [
      "Index(['having_IP_Address', 'URL_Length', 'Shortining_Service',\n",
      "       'having_At_Symbol', 'double_slash_redirecting', 'Prefix_Suffix',\n",
      "       'having_Sub_Domain', 'SSLfinal_State', 'Domain_registeration_length',\n",
      "       'Favicon', 'port', 'HTTPS_token', 'Request_URL', 'URL_of_Anchor',\n",
      "       'Links_in_tags', 'SFH', 'Submitting_to_email', 'Abnormal_URL',\n",
      "       'Redirect', 'on_mouseover', 'RightClick', 'popUpWidnow', 'Iframe',\n",
      "       'age_of_domain', 'DNSRecord', 'web_traffic', 'Page_Rank',\n",
      "       'Google_Index', 'Links_pointing_to_page', 'Statistical_report',\n",
      "       'Result'],\n",
      "      dtype='object')\n"
     ]
    }
   ],
   "source": [
    "print(df.columns)  # View all column names\n"
   ]
  },
  {
   "cell_type": "code",
   "execution_count": 7,
   "id": "e477cecc-3992-4c18-b383-d55d83d2ca7e",
   "metadata": {},
   "outputs": [],
   "source": [
    "# Select relevant features\n",
    "X = df[['URL_Length', 'having_At_Symbol', 'SSLfinal_State', 'Domain_registeration_length',\n",
    "        'HTTPS_token', 'Request_URL', 'age_of_domain', 'web_traffic', 'Google_Index']]\n",
    "\n",
    "# Target variable (Phishing or Legitimate)\n",
    "y = df['Result']  # Assuming \"Result\" is the target column\n",
    "\n",
    "# Convert categorical labels to numerical (if not already)\n",
    "from sklearn.preprocessing import LabelEncoder\n",
    "y = LabelEncoder().fit_transform(y)\n"
   ]
  },
  {
   "cell_type": "code",
   "execution_count": 8,
   "id": "01dfdfd9-4a5b-4d21-8823-f0c315f09fbc",
   "metadata": {},
   "outputs": [
    {
     "name": "stdout",
     "output_type": "stream",
     "text": [
      "Training set size: 8844\n",
      "Testing set size: 2211\n"
     ]
    }
   ],
   "source": [
    "from sklearn.model_selection import train_test_split\n",
    "\n",
    "# 80% training, 20% testing\n",
    "X_train, X_test, y_train, y_test = train_test_split(X, y, test_size=0.2, random_state=42)\n",
    "\n",
    "# Check dataset sizes\n",
    "print(f\"Training set size: {len(X_train)}\")\n",
    "print(f\"Testing set size: {len(X_test)}\")\n"
   ]
  },
  {
   "cell_type": "code",
   "execution_count": 9,
   "id": "814be3d7-4977-4785-bf5c-0cf969b5a131",
   "metadata": {},
   "outputs": [],
   "source": [
    "from sklearn.ensemble import RandomForestClassifier\n",
    "from sklearn.metrics import accuracy_score, classification_report\n",
    "\n",
    "# Initialize the model\n",
    "model = RandomForestClassifier(n_estimators=100, random_state=42)\n",
    "\n",
    "# Train the model\n",
    "model.fit(X_train, y_train)\n",
    "\n",
    "# Make predictions\n",
    "y_pred = model.predict(X_test)\n"
   ]
  },
  {
   "cell_type": "code",
   "execution_count": 10,
   "id": "3c5989a5-8b3a-4eae-b506-4f32c284c6cc",
   "metadata": {},
   "outputs": [
    {
     "name": "stdout",
     "output_type": "stream",
     "text": [
      "Model Accuracy: 0.90\n",
      "              precision    recall  f1-score   support\n",
      "\n",
      "           0       0.89      0.87      0.88       956\n",
      "           1       0.90      0.92      0.91      1255\n",
      "\n",
      "    accuracy                           0.90      2211\n",
      "   macro avg       0.90      0.90      0.90      2211\n",
      "weighted avg       0.90      0.90      0.90      2211\n",
      "\n"
     ]
    }
   ],
   "source": [
    "# Calculate accuracy\n",
    "accuracy = accuracy_score(y_test, y_pred)\n",
    "print(f\"Model Accuracy: {accuracy:.2f}\")\n",
    "\n",
    "# Display detailed performance metrics\n",
    "print(classification_report(y_test, y_pred))\n"
   ]
  },
  {
   "cell_type": "code",
   "execution_count": 11,
   "id": "8f4513d6-151a-431a-a34a-5385d59bc4c5",
   "metadata": {},
   "outputs": [
    {
     "name": "stdout",
     "output_type": "stream",
     "text": [
      "Model saved successfully!\n"
     ]
    }
   ],
   "source": [
    "import joblib\n",
    "\n",
    "# Save the model to a file\n",
    "joblib.dump(model, \"phishing_model.pkl\")\n",
    "\n",
    "print(\"Model saved successfully!\")\n"
   ]
  },
  {
   "cell_type": "code",
   "execution_count": 12,
   "id": "edb5da81-f780-426b-b55a-b4c1c84dacf1",
   "metadata": {},
   "outputs": [
    {
     "name": "stdout",
     "output_type": "stream",
     "text": [
      "Sample Predictions: [0 0 0 1 1]\n"
     ]
    }
   ],
   "source": [
    "# Load the saved model\n",
    "loaded_model = joblib.load(\"phishing_model.pkl\")\n",
    "\n",
    "# Test loading by making a prediction\n",
    "sample_prediction = loaded_model.predict(X_test[:5])  # Predict first 5 samples\n",
    "print(\"Sample Predictions:\", sample_prediction)\n"
   ]
  },
  {
   "cell_type": "code",
   "execution_count": null,
   "id": "387b3deb-8956-44bb-a004-ea70d8cadd93",
   "metadata": {},
   "outputs": [],
   "source": []
  }
 ],
 "metadata": {
  "kernelspec": {
   "display_name": "Python 3 (ipykernel)",
   "language": "python",
   "name": "python3"
  },
  "language_info": {
   "codemirror_mode": {
    "name": "ipython",
    "version": 3
   },
   "file_extension": ".py",
   "mimetype": "text/x-python",
   "name": "python",
   "nbconvert_exporter": "python",
   "pygments_lexer": "ipython3",
   "version": "3.11.5"
  }
 },
 "nbformat": 4,
 "nbformat_minor": 5
}
